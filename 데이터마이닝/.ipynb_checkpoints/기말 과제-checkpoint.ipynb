{
 "cells": [
  {
   "cell_type": "markdown",
   "metadata": {},
   "source": [
    "# 데이터 마이닝 기말 과제\n",
    "## 비즈니스 애널리틱스 과정 권혁주"
   ]
  },
  {
   "cell_type": "markdown",
   "metadata": {},
   "source": [
    "### 문제 1\n",
    "Suppose we have a data set with five predictors, X1 = GPA, X2 = IQ, X3 = Gender (1for Female and 0 for Male), X4 = Interaction between GPA and IQ, and X5 = Interaction between GPA and Gender. The response is starting salary after graduation (in thousands of dollars).  Suppose we use least squares to fit the model, and get βˆ0 = 50, βˆ1 = 20, βˆ2 = 0.07, βˆ3 = 35, βˆ4 = 0.01, βˆ5 = −10.\n",
    "##### 1. Which answer is correct, and why?\n",
    "(a) For a fixed value of IQ and GPA, males earn more on average than females.\n",
    "\n",
    "(b) For a fixed value of IQ and GPA, females earn more on average than males.\n",
    "\n",
    "(c) For a fixed value of IQ and GPA, males earn more on average than females provided that the GPA is high enough.\n",
    "\n",
    "(d) For a fixed value of IQ and GPA, females earn more on average than males provided that the GPA is high enough."
   ]
  },
  {
   "cell_type": "markdown",
   "metadata": {},
   "source": [
    "ANSWER  : GPA가 충분히 높다면 남성이 여성보다 더 많이 범 (d)\n",
    "\n",
    "The model : Y = 50+20(GPA)+0.07(IQ)+35(Gender)+0.01(GPA×IQ)−10(GPA×Gender)\n",
    "\n",
    "Male (Gender = 0) : Y = 50+20(GPA)+0.07(IQ)+0.01(GPA×IQ)\n",
    "\n",
    "Female (Gender = 0) : Y = 50+20(GPA)+0.07(IQ)+35+0.01(GPA×IQ)−10(GPA)\n",
    "\n"
   ]
  },
  {
   "cell_type": "markdown",
   "metadata": {},
   "source": [
    "#### 2. Predict the salary of a female with IQ of 110 and a GPA of 4.0."
   ]
  },
  {
   "cell_type": "markdown",
   "metadata": {},
   "source": [
    "ANSWER : Y =50+20∗4+0.07∗110+35+0.01(4×110)−10∗(4)=137.1"
   ]
  },
  {
   "cell_type": "markdown",
   "metadata": {},
   "source": [
    "#### 3. True or false: Since the coefficient for the GPA/IQ interaction term is very small, there is very little evidence of an interaction effect. Justify your answer"
   ]
  },
  {
   "cell_type": "markdown",
   "metadata": {},
   "source": [
    "ANSWER : FALSE. 계수에 대한 P-value는 유의수준 ( 0.5)에 따라 결정됨"
   ]
  },
  {
   "cell_type": "markdown",
   "metadata": {},
   "source": [
    "### 문제 2\n",
    "mpg 자료를 이용하여 다음을 코딩하라.(결측값은 제거할 것). \n",
    "(조건: 반응 변수: mpg01, 예측 변수: cylinders, weight, displacement, horsepower로 지정)\n"
   ]
  },
  {
   "cell_type": "markdown",
   "metadata": {},
   "source": [
    "#### 1. mpg의 값이 중앙값보다 크면 1로, 아니면 0으로 할당하는 이항 변수 자료를 만들어라.그리고 Auto 자료에 mpg01 이라는 변수명으로 추가하라."
   ]
  },
  {
   "cell_type": "code",
   "execution_count": 95,
   "metadata": {},
   "outputs": [],
   "source": [
    "# mpg01 변수 생성\n",
    "library(ISLR)\n",
    "library(MASS)\n",
    "library(class)\n",
    "\n",
    "Auto$mpg01 = Auto$mpg\n",
    "median = median(Auto$mpg)\n",
    "Auto[Auto$mpg01 <= median,10] = 0 \n",
    "Auto[Auto$mpg01 > median,10] = 1 "
   ]
  },
  {
   "cell_type": "markdown",
   "metadata": {},
   "source": [
    "#### 2. 선형 판별 분석(LDA)을 수행하라. 이때, 자료를 짝수년을 기준으로 훈련 자료와 시험 자료로 분리하고 전체 오차율을 구하여라."
   ]
  },
  {
   "cell_type": "code",
   "execution_count": 54,
   "metadata": {},
   "outputs": [
    {
     "data": {
      "text/plain": [
       "        \n",
       "lda.pred  0  1\n",
       "       0 86  9\n",
       "       1 14 73"
      ]
     },
     "metadata": {},
     "output_type": "display_data"
    },
    {
     "data": {
      "text/html": [
       "0.873626373626374"
      ],
      "text/latex": [
       "0.873626373626374"
      ],
      "text/markdown": [
       "0.873626373626374"
      ],
      "text/plain": [
       "[1] 0.8736264"
      ]
     },
     "metadata": {},
     "output_type": "display_data"
    }
   ],
   "source": [
    "# 훈련,시험 데이터 생성 & 선형판별 분석\n",
    "train = (Auto$year%%2 == 0) # 훈련 데이터 생성 \n",
    "test = Auto[!train,] # 시험 데이터 생성\n",
    "\n",
    "lda.fit = lda(mpg01~cylinders+weight+displacement+horsepower,data = Auto,family = binomial,subset = train) \n",
    "lda.pred = predict(lda.fit,test)$class\n",
    "table(lda.pred,test$mpg01) # 혼동 행렬\n",
    "mean(lda.pred == test$mpg01) # 전체 오차율"
   ]
  },
  {
   "cell_type": "markdown",
   "metadata": {},
   "source": [
    "#### 3. 이차 판별 분석(QDA)을 수행하라. 그리고 혼동 행렬 (confusion matrix)을 만들고 전체 오차율을 구하여라.\n"
   ]
  },
  {
   "cell_type": "code",
   "execution_count": 94,
   "metadata": {},
   "outputs": [
    {
     "data": {
      "text/plain": [
       "        \n",
       "qda.pred  0  1\n",
       "       0 88 13\n",
       "       1 12 69"
      ]
     },
     "metadata": {},
     "output_type": "display_data"
    },
    {
     "data": {
      "text/html": [
       "0.862637362637363"
      ],
      "text/latex": [
       "0.862637362637363"
      ],
      "text/markdown": [
       "0.862637362637363"
      ],
      "text/plain": [
       "[1] 0.8626374"
      ]
     },
     "metadata": {},
     "output_type": "display_data"
    }
   ],
   "source": [
    "# 이차 판별 분석\n",
    "qda.fit = qda(mpg01~cylinders+weight+displacement+horsepower,data = Auto,family = binomial,subset = train)\n",
    "qda.pred = predict(qda.fit,test)$class\n",
    "table(qda.pred,test$mpg01) # 혼동 행렬\n",
    "mean(qda.pred == test$mpg01) # 전체 오차율"
   ]
  },
  {
   "cell_type": "markdown",
   "metadata": {},
   "source": [
    "#### 4. 다중 로지스틱 회귀 분석을 수행하라. 그리고 시험자료에서 예측한 값과 실제 값을 비 교하고 전체 오차율을 구하여라. \n"
   ]
  },
  {
   "cell_type": "code",
   "execution_count": 93,
   "metadata": {},
   "outputs": [
    {
     "data": {
      "text/plain": [
       "        \n",
       "glm.pred  0  1\n",
       "       0 86 10\n",
       "       1 14 72"
      ]
     },
     "metadata": {},
     "output_type": "display_data"
    },
    {
     "data": {
      "text/html": [
       "0.868131868131868"
      ],
      "text/latex": [
       "0.868131868131868"
      ],
      "text/markdown": [
       "0.868131868131868"
      ],
      "text/plain": [
       "[1] 0.8681319"
      ]
     },
     "metadata": {},
     "output_type": "display_data"
    }
   ],
   "source": [
    "# 다중 로지스틱 회귀\n",
    "\n",
    "glm.fit = glm(mpg01~cylinders+weight+displacement+horsepower,data = Auto,family = binomial,subset = train)\n",
    "glm.probs = predict(glm.fit,test,type = 'response')\n",
    "glm.pred = rep('0',length(test$mpg01))\n",
    "glm.pred[glm.probs > 0.5] = '1'\n",
    "table(glm.pred,test$mpg01) # 혼동 행렬\n",
    "mean(glm.pred == test$mpg01) # 전체 오차율"
   ]
  },
  {
   "cell_type": "markdown",
   "metadata": {},
   "source": [
    "#### 5. 최근접이웃방법(KNN)을 수행하라. 그리고 K = 1, K = 10, K = 100일 때, 각 전체 오차율을 구하여라."
   ]
  },
  {
   "cell_type": "code",
   "execution_count": 58,
   "metadata": {},
   "outputs": [],
   "source": [
    "# 동일한 결과값을 생산하기 위해 set.seed(1)을 설정\n",
    "set.seed(1)"
   ]
  },
  {
   "cell_type": "code",
   "execution_count": 68,
   "metadata": {},
   "outputs": [
    {
     "data": {
      "text/plain": [
       "        \n",
       "knn.pred  0  1\n",
       "       0 83 11\n",
       "       1 17 71"
      ]
     },
     "metadata": {},
     "output_type": "display_data"
    }
   ],
   "source": [
    "# 데이터 세팅 & k = 1 인 최근접 이웃법\n",
    "Auto.train = Auto[train,c(2,3,4,5)] # 설명변수를 포함하는 훈련 데이터 \n",
    "Auto.test = Auto[!train,c(2,3,4,5)] # 설명변수를 포함하는 시험 데이터\n",
    "knn.pred = knn(Auto.train,Auto.test,Auto[train,10],k=1)  # k = 1인 knn\n",
    "table.1 <- table(knn.pred,test$mpg01) # 혼동 행렬\n",
    "table.1"
   ]
  },
  {
   "cell_type": "code",
   "execution_count": 69,
   "metadata": {},
   "outputs": [
    {
     "data": {
      "text/html": [
       "0.846153846153846"
      ],
      "text/latex": [
       "0.846153846153846"
      ],
      "text/markdown": [
       "0.846153846153846"
      ],
      "text/plain": [
       "[1] 0.8461538"
      ]
     },
     "metadata": {},
     "output_type": "display_data"
    }
   ],
   "source": [
    "(table.1[1.1]+table.1[2,2])/sum(table.1) # 전체 오차율"
   ]
  },
  {
   "cell_type": "code",
   "execution_count": 70,
   "metadata": {},
   "outputs": [
    {
     "data": {
      "text/plain": [
       "        \n",
       "knn.pred  0  1\n",
       "       0 78  7\n",
       "       1 22 75"
      ]
     },
     "metadata": {},
     "output_type": "display_data"
    }
   ],
   "source": [
    "# k = 10 인 최근접 이웃법\n",
    "knn.pred = knn(Auto.train,Auto.test,Auto[train,10],k=10) # k = 10인 knn\n",
    "table.10 <- table(knn.pred,test$mpg01) # 혼동 행렬\n",
    "table.10"
   ]
  },
  {
   "cell_type": "code",
   "execution_count": 71,
   "metadata": {},
   "outputs": [
    {
     "data": {
      "text/html": [
       "0.818681318681319"
      ],
      "text/latex": [
       "0.818681318681319"
      ],
      "text/markdown": [
       "0.818681318681319"
      ],
      "text/plain": [
       "[1] 0.8186813"
      ]
     },
     "metadata": {},
     "output_type": "display_data"
    }
   ],
   "source": [
    "(table.10[1.1]+table.1[2,2])/sum(table.10) # 전체 오차율"
   ]
  },
  {
   "cell_type": "code",
   "execution_count": 72,
   "metadata": {},
   "outputs": [
    {
     "data": {
      "text/plain": [
       "        \n",
       "knn.pred  0  1\n",
       "       0 81  7\n",
       "       1 19 75"
      ]
     },
     "metadata": {},
     "output_type": "display_data"
    }
   ],
   "source": [
    "# k = 100 인 최근접 이웃법\n",
    "knn.pred = knn(Auto.train,Auto.test,Auto[train,10],k=100) # k = 100인 knn\n",
    "table.100 <- table(knn.pred,test$mpg01) # 혼동 행렬\n",
    "table.100"
   ]
  },
  {
   "cell_type": "code",
   "execution_count": 73,
   "metadata": {},
   "outputs": [
    {
     "data": {
      "text/html": [
       "0.835164835164835"
      ],
      "text/latex": [
       "0.835164835164835"
      ],
      "text/markdown": [
       "0.835164835164835"
      ],
      "text/plain": [
       "[1] 0.8351648"
      ]
     },
     "metadata": {},
     "output_type": "display_data"
    }
   ],
   "source": [
    "(table.100[1.1]+table.1[2,2])/sum(table.100) # 전체 오차율"
   ]
  },
  {
   "cell_type": "markdown",
   "metadata": {},
   "source": [
    "### 문제 3\n",
    "#### 강의 홈에 제공된 'data.xlsx'에 대하여 'ideo_self'예측하는 모형을 구축하고 'ideo_self' 관측되지 않은 자료 ('NA'자료)에 대한 예측을 시행하여라. 예측 모형을 구축함에 잇어 그 과정을 설명함으로서 제안된 예측모형의 타당성을 이야기하여야 한다."
   ]
  },
  {
   "cell_type": "markdown",
   "metadata": {},
   "source": [
    "#### 데이터 세팅\n",
    "제공된 data1.xlsx 파일을 train set(1번 ~ 900번 관측치) 과 test set(901번 ~ 1055번 관측치)으로 나눔 \n",
    "\n",
    "train set은 data1.csv로 저장, test setd은 test1.csv로 저장"
   ]
  },
  {
   "cell_type": "code",
   "execution_count": 175,
   "metadata": {},
   "outputs": [],
   "source": [
    "# library & data 세팅\n",
    "setwd('C:/Users/User/Desktop')\n",
    "library(tree)\n",
    "library(randomForest)\n",
    "library(caret)\n",
    "library(gbm)\n",
    "data1 <- read.csv('data1.csv',header = TRUE) # 나눈 train set을 불러옴"
   ]
  },
  {
   "cell_type": "markdown",
   "metadata": {},
   "source": [
    "#### 데이터 전처리"
   ]
  },
  {
   "cell_type": "code",
   "execution_count": 176,
   "metadata": {},
   "outputs": [],
   "source": [
    "data1 <- data1[-585,] # 모든 변수 값이 NA인 관측값 삭제\n",
    "\n",
    "data1$id <- as.factor(data1$id) # int -> factor로 변수 타입 변경\n",
    "data1$sex <- as.factor(data1$sex) # int -> factor로 변수 타입 변경\n",
    "data1$area <- as.factor(data1$area) # int -> factor로 변수 타입 변경\n"
   ]
  },
  {
   "cell_type": "markdown",
   "metadata": {},
   "source": [
    "#### 탐색적 분석\n",
    "설명 변수(k2 ~ k14)에는 다수의  NA값들이 존재  (각각 관측치의 8~ 10% 정도) -> 파생변수 생성 (k0 : 관측치별 k2~ k14 변수 응답의 평균)\n",
    "\n",
    "설명 변수(k2 ~ k14)와 반응변수(ideo_self)사이의 관계 파악  -> 일부 구간에서만 선형 관계 확인"
   ]
  },
  {
   "cell_type": "code",
   "execution_count": 177,
   "metadata": {
    "scrolled": true
   },
   "outputs": [
    {
     "data": {
      "text/plain": [
       "       id      sex         birth           age1            age      \n",
       " 1      :  1   1:518   Min.   :1938   Min.   :19.00   Min.   :2.00  \n",
       " 3      :  1   2:381   1st Qu.:1961   1st Qu.:33.00   1st Qu.:3.00  \n",
       " 4      :  1           Median :1970   Median :46.00   Median :4.00  \n",
       " 6      :  1           Mean   :1972   Mean   :44.22   Mean   :4.01  \n",
       " 7      :  1           3rd Qu.:1983   3rd Qu.:55.00   3rd Qu.:5.00  \n",
       " 8      :  1           Max.   :1997   Max.   :78.00   Max.   :6.00  \n",
       " (Other):893                                                        \n",
       "      area          edu            income             k2              k3       \n",
       " 1      :261   Min.   :1.000   Min.   : 1.000   Min.   :0.000   Min.   :1.000  \n",
       " 8      :221   1st Qu.:2.000   1st Qu.: 1.000   1st Qu.:0.000   1st Qu.:1.000  \n",
       " 2      : 72   Median :3.000   Median : 1.000   Median :1.000   Median :1.000  \n",
       " 4      : 71   Mean   :3.135   Mean   : 1.824   Mean   :0.662   Mean   :1.488  \n",
       " 6      : 39   3rd Qu.:4.000   3rd Qu.: 1.000   3rd Qu.:1.000   3rd Qu.:2.000  \n",
       " 14     : 36   Max.   :5.000   Max.   :15.000   Max.   :1.000   Max.   :2.000  \n",
       " (Other):199                                    NA's   :186     NA's   :167    \n",
       "       k4               k6               k7               k8        \n",
       " Min.   :0.0000   Min.   :0.0000   Min.   :0.0000   Min.   :0.0000  \n",
       " 1st Qu.:0.0000   1st Qu.:0.0000   1st Qu.:0.0000   1st Qu.:0.0000  \n",
       " Median :1.0000   Median :1.0000   Median :0.0000   Median :0.0000  \n",
       " Mean   :0.5372   Mean   :0.7064   Mean   :0.2548   Mean   :0.3783  \n",
       " 3rd Qu.:1.0000   3rd Qu.:1.0000   3rd Qu.:1.0000   3rd Qu.:1.0000  \n",
       " Max.   :1.0000   Max.   :1.0000   Max.   :1.0000   Max.   :1.0000  \n",
       " NA's   :173      NA's   :143      NA's   :228      NA's   :106     \n",
       "      k10              k12              k13              k14        \n",
       " Min.   :0.0000   Min.   :0.0000   Min.   :0.0000   Min.   :0.0000  \n",
       " 1st Qu.:0.0000   1st Qu.:0.0000   1st Qu.:0.0000   1st Qu.:1.0000  \n",
       " Median :0.0000   Median :0.0000   Median :0.0000   Median :1.0000  \n",
       " Mean   :0.4469   Mean   :0.4767   Mean   :0.2708   Mean   :0.7925  \n",
       " 3rd Qu.:1.0000   3rd Qu.:1.0000   3rd Qu.:1.0000   3rd Qu.:1.0000  \n",
       " Max.   :1.0000   Max.   :1.0000   Max.   :1.0000   Max.   :1.0000  \n",
       " NA's   :230      NA's   :83       NA's   :68       NA's   :94      \n",
       "   ideo_self     \n",
       " Min.   : 0.000  \n",
       " 1st Qu.: 4.000  \n",
       " Median : 5.000  \n",
       " Mean   : 5.158  \n",
       " 3rd Qu.: 6.000  \n",
       " Max.   :10.000  \n",
       "                 "
      ]
     },
     "metadata": {},
     "output_type": "display_data"
    },
    {
     "data": {
      "text/html": [
       "<dl class=dl-horizontal>\n",
       "\t<dt>id</dt>\n",
       "\t\t<dd>0</dd>\n",
       "\t<dt>sex</dt>\n",
       "\t\t<dd>0</dd>\n",
       "\t<dt>birth</dt>\n",
       "\t\t<dd>0</dd>\n",
       "\t<dt>age1</dt>\n",
       "\t\t<dd>0</dd>\n",
       "\t<dt>age</dt>\n",
       "\t\t<dd>0</dd>\n",
       "\t<dt>area</dt>\n",
       "\t\t<dd>0</dd>\n",
       "\t<dt>edu</dt>\n",
       "\t\t<dd>0</dd>\n",
       "\t<dt>income</dt>\n",
       "\t\t<dd>0</dd>\n",
       "\t<dt>k2</dt>\n",
       "\t\t<dd>186</dd>\n",
       "\t<dt>k3</dt>\n",
       "\t\t<dd>167</dd>\n",
       "\t<dt>k4</dt>\n",
       "\t\t<dd>173</dd>\n",
       "\t<dt>k6</dt>\n",
       "\t\t<dd>143</dd>\n",
       "\t<dt>k7</dt>\n",
       "\t\t<dd>228</dd>\n",
       "\t<dt>k8</dt>\n",
       "\t\t<dd>106</dd>\n",
       "\t<dt>k10</dt>\n",
       "\t\t<dd>230</dd>\n",
       "\t<dt>k12</dt>\n",
       "\t\t<dd>83</dd>\n",
       "\t<dt>k13</dt>\n",
       "\t\t<dd>68</dd>\n",
       "\t<dt>k14</dt>\n",
       "\t\t<dd>94</dd>\n",
       "\t<dt>ideo_self</dt>\n",
       "\t\t<dd>0</dd>\n",
       "</dl>\n"
      ],
      "text/latex": [
       "\\begin{description*}\n",
       "\\item[id] 0\n",
       "\\item[sex] 0\n",
       "\\item[birth] 0\n",
       "\\item[age1] 0\n",
       "\\item[age] 0\n",
       "\\item[area] 0\n",
       "\\item[edu] 0\n",
       "\\item[income] 0\n",
       "\\item[k2] 186\n",
       "\\item[k3] 167\n",
       "\\item[k4] 173\n",
       "\\item[k6] 143\n",
       "\\item[k7] 228\n",
       "\\item[k8] 106\n",
       "\\item[k10] 230\n",
       "\\item[k12] 83\n",
       "\\item[k13] 68\n",
       "\\item[k14] 94\n",
       "\\item[ideo\\textbackslash{}\\_self] 0\n",
       "\\end{description*}\n"
      ],
      "text/markdown": [
       "id\n",
       ":   0sex\n",
       ":   0birth\n",
       ":   0age1\n",
       ":   0age\n",
       ":   0area\n",
       ":   0edu\n",
       ":   0income\n",
       ":   0k2\n",
       ":   186k3\n",
       ":   167k4\n",
       ":   173k6\n",
       ":   143k7\n",
       ":   228k8\n",
       ":   106k10\n",
       ":   230k12\n",
       ":   83k13\n",
       ":   68k14\n",
       ":   94ideo_self\n",
       ":   0\n",
       "\n"
      ],
      "text/plain": [
       "       id       sex     birth      age1       age      area       edu    income \n",
       "        0         0         0         0         0         0         0         0 \n",
       "       k2        k3        k4        k6        k7        k8       k10       k12 \n",
       "      186       167       173       143       228       106       230        83 \n",
       "      k13       k14 ideo_self \n",
       "       68        94         0 "
      ]
     },
     "metadata": {},
     "output_type": "display_data"
    },
    {
     "data": {
      "text/html": [
       "<table>\n",
       "<thead><tr><th scope=col>ideo_self</th><th scope=col>k2</th></tr></thead>\n",
       "<tbody>\n",
       "\t<tr><td> 0       </td><td>0.5416667</td></tr>\n",
       "\t<tr><td> 1       </td><td>0.2222222</td></tr>\n",
       "\t<tr><td> 2       </td><td>0.2777778</td></tr>\n",
       "\t<tr><td> 3       </td><td>0.3333333</td></tr>\n",
       "\t<tr><td> 4       </td><td>0.4729730</td></tr>\n",
       "\t<tr><td> 5       </td><td>0.6974359</td></tr>\n",
       "\t<tr><td> 6       </td><td>0.8354430</td></tr>\n",
       "\t<tr><td> 7       </td><td>0.8684211</td></tr>\n",
       "\t<tr><td> 8       </td><td>0.8548387</td></tr>\n",
       "\t<tr><td> 9       </td><td>1.0000000</td></tr>\n",
       "\t<tr><td>10       </td><td>0.8400000</td></tr>\n",
       "</tbody>\n",
       "</table>\n"
      ],
      "text/latex": [
       "\\begin{tabular}{r|ll}\n",
       " ideo\\_self & k2\\\\\n",
       "\\hline\n",
       "\t  0        & 0.5416667\\\\\n",
       "\t  1        & 0.2222222\\\\\n",
       "\t  2        & 0.2777778\\\\\n",
       "\t  3        & 0.3333333\\\\\n",
       "\t  4        & 0.4729730\\\\\n",
       "\t  5        & 0.6974359\\\\\n",
       "\t  6        & 0.8354430\\\\\n",
       "\t  7        & 0.8684211\\\\\n",
       "\t  8        & 0.8548387\\\\\n",
       "\t  9        & 1.0000000\\\\\n",
       "\t 10        & 0.8400000\\\\\n",
       "\\end{tabular}\n"
      ],
      "text/markdown": [
       "\n",
       "ideo_self | k2 | \n",
       "|---|---|---|---|---|---|---|---|---|---|---|\n",
       "|  0        | 0.5416667 | \n",
       "|  1        | 0.2222222 | \n",
       "|  2        | 0.2777778 | \n",
       "|  3        | 0.3333333 | \n",
       "|  4        | 0.4729730 | \n",
       "|  5        | 0.6974359 | \n",
       "|  6        | 0.8354430 | \n",
       "|  7        | 0.8684211 | \n",
       "|  8        | 0.8548387 | \n",
       "|  9        | 1.0000000 | \n",
       "| 10        | 0.8400000 | \n",
       "\n",
       "\n"
      ],
      "text/plain": [
       "   ideo_self k2       \n",
       "1   0        0.5416667\n",
       "2   1        0.2222222\n",
       "3   2        0.2777778\n",
       "4   3        0.3333333\n",
       "5   4        0.4729730\n",
       "6   5        0.6974359\n",
       "7   6        0.8354430\n",
       "8   7        0.8684211\n",
       "9   8        0.8548387\n",
       "10  9        1.0000000\n",
       "11 10        0.8400000"
      ]
     },
     "metadata": {},
     "output_type": "display_data"
    },
    {
     "data": {
      "text/html": [
       "<table>\n",
       "<thead><tr><th scope=col>ideo_self</th><th scope=col>k3</th></tr></thead>\n",
       "<tbody>\n",
       "\t<tr><td> 0      </td><td>1.640000</td></tr>\n",
       "\t<tr><td> 1      </td><td>1.777778</td></tr>\n",
       "\t<tr><td> 2      </td><td>1.694444</td></tr>\n",
       "\t<tr><td> 3      </td><td>1.694118</td></tr>\n",
       "\t<tr><td> 4      </td><td>1.678571</td></tr>\n",
       "\t<tr><td> 5      </td><td>1.480769</td></tr>\n",
       "\t<tr><td> 6      </td><td>1.421053</td></tr>\n",
       "\t<tr><td> 7      </td><td>1.388889</td></tr>\n",
       "\t<tr><td> 8      </td><td>1.169492</td></tr>\n",
       "\t<tr><td> 9      </td><td>1.095238</td></tr>\n",
       "\t<tr><td>10      </td><td>1.291667</td></tr>\n",
       "</tbody>\n",
       "</table>\n"
      ],
      "text/latex": [
       "\\begin{tabular}{r|ll}\n",
       " ideo\\_self & k3\\\\\n",
       "\\hline\n",
       "\t  0       & 1.640000\\\\\n",
       "\t  1       & 1.777778\\\\\n",
       "\t  2       & 1.694444\\\\\n",
       "\t  3       & 1.694118\\\\\n",
       "\t  4       & 1.678571\\\\\n",
       "\t  5       & 1.480769\\\\\n",
       "\t  6       & 1.421053\\\\\n",
       "\t  7       & 1.388889\\\\\n",
       "\t  8       & 1.169492\\\\\n",
       "\t  9       & 1.095238\\\\\n",
       "\t 10       & 1.291667\\\\\n",
       "\\end{tabular}\n"
      ],
      "text/markdown": [
       "\n",
       "ideo_self | k3 | \n",
       "|---|---|---|---|---|---|---|---|---|---|---|\n",
       "|  0       | 1.640000 | \n",
       "|  1       | 1.777778 | \n",
       "|  2       | 1.694444 | \n",
       "|  3       | 1.694118 | \n",
       "|  4       | 1.678571 | \n",
       "|  5       | 1.480769 | \n",
       "|  6       | 1.421053 | \n",
       "|  7       | 1.388889 | \n",
       "|  8       | 1.169492 | \n",
       "|  9       | 1.095238 | \n",
       "| 10       | 1.291667 | \n",
       "\n",
       "\n"
      ],
      "text/plain": [
       "   ideo_self k3      \n",
       "1   0        1.640000\n",
       "2   1        1.777778\n",
       "3   2        1.694444\n",
       "4   3        1.694118\n",
       "5   4        1.678571\n",
       "6   5        1.480769\n",
       "7   6        1.421053\n",
       "8   7        1.388889\n",
       "9   8        1.169492\n",
       "10  9        1.095238\n",
       "11 10        1.291667"
      ]
     },
     "metadata": {},
     "output_type": "display_data"
    }
   ],
   "source": [
    "# 탐색적 분석\n",
    "summary(data1)\n",
    "colSums(is.na(data1))\n",
    "\n",
    "# 파생변수 ko 생성\n",
    "data1$k0 <- apply(data1[,c(9:18)],1,mean,na.rm = T)\n",
    "\n",
    "# ideo_self와 k2 ~ k14 변수 간의 선형 관계\n",
    "aggregate(formula = k2 ~ideo_self,data = data1,FUN = mean)\n",
    "aggregate(formula = k3 ~ideo_self,data = data1,FUN = mean) \n",
    "#aggregate(formula = k4 ~ideo_self,data = data1,FUN = mean) \n",
    "#aggregate(formula = k6 ~ideo_self,data = data1,FUN = mean) \n",
    "#aggregate(formula = k7 ~ideo_self,data = data1,FUN = mean) \n",
    "#aggregate(formula = k8 ~ideo_self,data = data1,FUN = mean) \n",
    "#aggregate(formula = k10 ~ideo_self,data = data1,FUN = mean) \n",
    "#aggregate(formula = k12 ~ideo_self,data = data1,FUN = mean) \n",
    "#aggregate(formula = k13 ~ideo_self,data = data1,FUN = mean) \n",
    "#aggregate(formula = k14 ~ideo_self,data = data1,FUN = mean) "
   ]
  },
  {
   "cell_type": "markdown",
   "metadata": {},
   "source": [
    "#### 탐색적 분석 요약 : \n",
    "##### 반응 변수가 0 ~ 10 등급이지만 등급 간 순서가 존재하기 때문에 회귀 모형 적용 가능\n",
    "##### 또한 반응 변수와 설명 변수간의 선형선이 존재하기 때문에 부스팅 기법의 조율 파라미터를 활용 적합한 모델을 선택"
   ]
  },
  {
   "cell_type": "markdown",
   "metadata": {},
   "source": [
    "#### Train & Validation set 생성"
   ]
  },
  {
   "cell_type": "code",
   "execution_count": 178,
   "metadata": {
    "collapsed": true
   },
   "outputs": [],
   "source": [
    "set.seed(1)\n",
    "train = sample(1:nrow(data1),450) # train 생성\n",
    "ideo_self.test = data1[-train,19] # validation 생성"
   ]
  },
  {
   "cell_type": "markdown",
   "metadata": {},
   "source": [
    "#### Boosting 모델 활용 예측"
   ]
  },
  {
   "cell_type": "code",
   "execution_count": 182,
   "metadata": {},
   "outputs": [],
   "source": [
    "boost.1 = gbm(ideo_self~.-id-age-birth,data1[train,],distribution = 'gaussian',n.trees = 5000,interaction.depth = 1 ,shrinkage = 0.0005)\n",
    "yhat.boost = predict(boost.1,newdata = data1[-train,],n.trees = 5000)"
   ]
  },
  {
   "cell_type": "code",
   "execution_count": 183,
   "metadata": {
    "scrolled": true
   },
   "outputs": [
    {
     "name": "stderr",
     "output_type": "stream",
     "text": [
      "Warning message in levels(reference) != levels(data):\n",
      "\"두 객체의 길이가 서로 배수관계에 있지 않습니다\"Warning message in confusionMatrix.default(round(yhat.boost), ideo_self.test):\n",
      "\"Levels are not in the same order for reference and data. Refactoring data to match.\""
     ]
    },
    {
     "data": {
      "text/plain": [
       "Confusion Matrix and Statistics\n",
       "\n",
       "          Reference\n",
       "Prediction  0  1  2  3  4  5  6  7  8  9 10\n",
       "        0   0  0  0  0  0  0  0  0  0  0  0\n",
       "        1   0  0  0  0  0  0  0  0  0  0  0\n",
       "        2   0  0  0  0  0  0  0  0  0  0  0\n",
       "        3   0  0  0  0  0  0  0  0  0  0  0\n",
       "        4   3  3  7 18 15 21  5  1  1  0  0\n",
       "        5  12  7 11 31 29 87 16 13  4  0  4\n",
       "        6   0  1  1  8  4 25 27 11  7  3  8\n",
       "        7   2  0  1  0  5 11  8 14 14  3  8\n",
       "        8   0  0  0  0  0  0  0  0  0  0  0\n",
       "        9   0  0  0  0  0  0  0  0  0  0  0\n",
       "        10  0  0  0  0  0  0  0  0  0  0  0\n",
       "\n",
       "Overall Statistics\n",
       "                                          \n",
       "               Accuracy : 0.3185          \n",
       "                 95% CI : (0.2756, 0.3638)\n",
       "    No Information Rate : 0.3207          \n",
       "    P-Value [Acc > NIR] : 0.5579          \n",
       "                                          \n",
       "                  Kappa : 0.1357          \n",
       " Mcnemar's Test P-Value : NA              \n",
       "\n",
       "Statistics by Class:\n",
       "\n",
       "                     Class: 0 Class: 1 Class: 2 Class: 3 Class: 4 Class: 5\n",
       "Sensitivity           0.00000   0.0000  0.00000   0.0000  0.28302   0.6042\n",
       "Specificity           1.00000   1.0000  1.00000   1.0000  0.85101   0.5836\n",
       "Pos Pred Value            NaN      NaN      NaN      NaN  0.20270   0.4065\n",
       "Neg Pred Value        0.96214   0.9755  0.95546   0.8731  0.89867   0.7574\n",
       "Prevalence            0.03786   0.0245  0.04454   0.1269  0.11804   0.3207\n",
       "Detection Rate        0.00000   0.0000  0.00000   0.0000  0.03341   0.1938\n",
       "Detection Prevalence  0.00000   0.0000  0.00000   0.0000  0.16481   0.4766\n",
       "Balanced Accuracy     0.50000   0.5000  0.50000   0.5000  0.56701   0.5939\n",
       "                     Class: 6 Class: 7 Class: 8 Class: 9 Class: 10\n",
       "Sensitivity           0.48214  0.35897  0.00000  0.00000   0.00000\n",
       "Specificity           0.82697  0.87317  1.00000  1.00000   1.00000\n",
       "Pos Pred Value        0.28421  0.21212      NaN      NaN       NaN\n",
       "Neg Pred Value        0.91808  0.93473  0.94209  0.98664   0.95546\n",
       "Prevalence            0.12472  0.08686  0.05791  0.01336   0.04454\n",
       "Detection Rate        0.06013  0.03118  0.00000  0.00000   0.00000\n",
       "Detection Prevalence  0.21158  0.14699  0.00000  0.00000   0.00000\n",
       "Balanced Accuracy     0.65456  0.61607  0.50000  0.50000   0.50000"
      ]
     },
     "metadata": {},
     "output_type": "display_data"
    },
    {
     "data": {
      "text/html": [
       "3.76451198671975"
      ],
      "text/latex": [
       "3.76451198671975"
      ],
      "text/markdown": [
       "3.76451198671975"
      ],
      "text/plain": [
       "[1] 3.764512"
      ]
     },
     "metadata": {},
     "output_type": "display_data"
    }
   ],
   "source": [
    "confusionMatrix(round(yhat.boost),ideo_self.test)\n",
    "mean((yhat.boost - ideo_self.test)^2)"
   ]
  },
  {
   "cell_type": "code",
   "execution_count": 181,
   "metadata": {
    "collapsed": true
   },
   "outputs": [],
   "source": [
    "boost.1 = gbm(ideo_self~.-id-age-birth,data1[train,],distribution = 'gaussian',n.trees = 5000,interaction.depth = 2,shrinkage = 0.0005)\n",
    "yhat.boost = predict(boost.1,newdata = data1[-train,],n.trees = 5000)"
   ]
  },
  {
   "cell_type": "code",
   "execution_count": 165,
   "metadata": {},
   "outputs": [
    {
     "name": "stderr",
     "output_type": "stream",
     "text": [
      "Warning message in levels(reference) != levels(data):\n",
      "\"두 객체의 길이가 서로 배수관계에 있지 않습니다\"Warning message in confusionMatrix.default(round(yhat.boost), ideo_self.test):\n",
      "\"Levels are not in the same order for reference and data. Refactoring data to match.\""
     ]
    },
    {
     "data": {
      "text/plain": [
       "Confusion Matrix and Statistics\n",
       "\n",
       "          Reference\n",
       "Prediction  0  1  2  3  4  5  6  7  8  9 10\n",
       "        0   0  0  0  0  0  0  0  0  0  0  0\n",
       "        1   0  0  0  0  0  0  0  0  0  0  0\n",
       "        2   0  0  0  0  0  0  0  0  0  0  0\n",
       "        3   0  0  0  0  0  0  0  0  0  0  0\n",
       "        4   7  4  7 23 17 28  8  2  1  0  0\n",
       "        5   7  7 10 24 24 77 10 11  4  0  4\n",
       "        6   1  0  2  9  7 25 28 11  6  2  6\n",
       "        7   2  0  1  1  5 13 10 13 11  3  6\n",
       "        8   0  0  0  0  0  1  0  2  4  1  4\n",
       "        9   0  0  0  0  0  0  0  0  0  0  0\n",
       "        10  0  0  0  0  0  0  0  0  0  0  0\n",
       "\n",
       "Overall Statistics\n",
       "                                          \n",
       "               Accuracy : 0.3096          \n",
       "                 95% CI : (0.2671, 0.3546)\n",
       "    No Information Rate : 0.3207          \n",
       "    P-Value [Acc > NIR] : 0.7095          \n",
       "                                          \n",
       "                  Kappa : 0.1437          \n",
       " Mcnemar's Test P-Value : NA              \n",
       "\n",
       "Statistics by Class:\n",
       "\n",
       "                     Class: 0 Class: 1 Class: 2 Class: 3 Class: 4 Class: 5\n",
       "Sensitivity           0.00000   0.0000  0.00000   0.0000  0.32075   0.5347\n",
       "Specificity           1.00000   1.0000  1.00000   1.0000  0.79798   0.6689\n",
       "Pos Pred Value            NaN      NaN      NaN      NaN  0.17526   0.4326\n",
       "Neg Pred Value        0.96214   0.9755  0.95546   0.8731  0.89773   0.7528\n",
       "Prevalence            0.03786   0.0245  0.04454   0.1269  0.11804   0.3207\n",
       "Detection Rate        0.00000   0.0000  0.00000   0.0000  0.03786   0.1715\n",
       "Detection Prevalence  0.00000   0.0000  0.00000   0.0000  0.21604   0.3964\n",
       "Balanced Accuracy     0.50000   0.5000  0.50000   0.5000  0.55937   0.6018\n",
       "                     Class: 6 Class: 7 Class: 8 Class: 9 Class: 10\n",
       "Sensitivity           0.50000  0.33333 0.153846  0.00000   0.00000\n",
       "Specificity           0.82443  0.87317 0.981087  1.00000   1.00000\n",
       "Pos Pred Value        0.28866  0.20000 0.333333      NaN       NaN\n",
       "Neg Pred Value        0.92045  0.93229 0.949657  0.98664   0.95546\n",
       "Prevalence            0.12472  0.08686 0.057906  0.01336   0.04454\n",
       "Detection Rate        0.06236  0.02895 0.008909  0.00000   0.00000\n",
       "Detection Prevalence  0.21604  0.14477 0.026726  0.00000   0.00000\n",
       "Balanced Accuracy     0.66221  0.60325 0.567467  0.50000   0.50000"
      ]
     },
     "metadata": {},
     "output_type": "display_data"
    },
    {
     "data": {
      "text/html": [
       "3.7550696149347"
      ],
      "text/latex": [
       "3.7550696149347"
      ],
      "text/markdown": [
       "3.7550696149347"
      ],
      "text/plain": [
       "[1] 3.75507"
      ]
     },
     "metadata": {},
     "output_type": "display_data"
    }
   ],
   "source": [
    "confusionMatrix(round(yhat.boost),ideo_self.test)\n",
    "mean((yhat.boost - ideo_self.test)^2)"
   ]
  },
  {
   "cell_type": "markdown",
   "metadata": {},
   "source": [
    "#### test set에 적용"
   ]
  },
  {
   "cell_type": "code",
   "execution_count": 172,
   "metadata": {},
   "outputs": [],
   "source": [
    "test.1 = read.csv('data1_test.csv',header = TRUE)\n",
    "test.1$id = as.factor(test.1$id) # int -> factor로 변수 타입 변경\n",
    "test.1$sex = as.factor(test.1$sex) # int -> factor로 변수 타입 변경\n",
    "test.1$area = as.factor(test.1$area) # int -> factor로 변수 타입 변경\n",
    "test.1$k0 = apply(test.1[,c(9:18)],1,mean,na.rm = T)"
   ]
  },
  {
   "cell_type": "code",
   "execution_count": 190,
   "metadata": {
    "collapsed": true
   },
   "outputs": [],
   "source": [
    "test.yhat = predict(boost.1,newdata = test.1,n.trees = 5000)\n",
    "answer = round(test.yhat)\n",
    "test.1$answer = answer\n",
    "write.csv(test.1,'data1_answer.csv')"
   ]
  },
  {
   "cell_type": "markdown",
   "metadata": {},
   "source": [
    "### 문제 4\n",
    "#### 강의 홈에 제공된 'data2.xlsx'을 이용하여 의원 들의 군집을 파악하여 보아라. 문제 3과 같이 군집을 찾아가는 과정에 대한 설명을 제시함으로서 분석의 타탕성을 이야기 하여야 한다."
   ]
  },
  {
   "cell_type": "markdown",
   "metadata": {},
   "source": [
    "#### 데이터 세팅\n",
    "데이터를 불러화 행렬(matrix)식으로 변환"
   ]
  },
  {
   "cell_type": "code",
   "execution_count": 209,
   "metadata": {
    "scrolled": true
   },
   "outputs": [
    {
     "data": {
      "text/html": [
       "<ol class=list-inline>\n",
       "\t<li>141</li>\n",
       "\t<li>142</li>\n",
       "</ol>\n"
      ],
      "text/latex": [
       "\\begin{enumerate*}\n",
       "\\item 141\n",
       "\\item 142\n",
       "\\end{enumerate*}\n"
      ],
      "text/markdown": [
       "1. 141\n",
       "2. 142\n",
       "\n",
       "\n"
      ],
      "text/plain": [
       "[1] 141 142"
      ]
     },
     "metadata": {},
     "output_type": "display_data"
    }
   ],
   "source": [
    "data2 <- read.csv('data2.csv') # 데이터 불러오기\n",
    "dim(data2) # 141*142행렬이므로 변수명에 해당되는 첫 열을 분리\n",
    "\n",
    "name <- data2[,1] # 첫 열을 name으로 지정\n",
    "data2 <- data2[,-1]\n",
    "data2 <- as.matrix(data2) # data.frame을 matrix로 변환\n",
    "rownames(data2) <- name # rownames 입력"
   ]
  },
  {
   "cell_type": "code",
   "execution_count": 210,
   "metadata": {},
   "outputs": [],
   "source": [
    "# 변수명을 정당으로 갖는 matrix 생성\n",
    "party <- read.csv('party.csv') # 데이터 불러오기\n",
    "party_names <- party$party\n",
    "data_party <- data2\n",
    "rownames(data_party) <- party_names\n",
    "colnames(data_party) <- party_names\n"
   ]
  },
  {
   "cell_type": "markdown",
   "metadata": {},
   "source": [
    "#### 클러스터링 방법 선택\n",
    "계층적 클러스터링과 K-mean 클러스터링 중 데이터 특성(변수*변수 matrix형태)에 따라 계층적 클러스터링으로 결정\n",
    "\n",
    "비유사성 측도를 선택하기 위해' 평균','완전' 연결법을 활용 (가장 많이 활용)\n",
    "\n",
    "필요에 따라 scaling 진행\n"
   ]
  },
  {
   "cell_type": "code",
   "execution_count": 211,
   "metadata": {},
   "outputs": [
    {
     "data": {
      "image/png": "[encoded data removed]",
      "text/plain": [
       "Plot with title \"Cluster Dendrogram\""
      ]
     },
     "metadata": {},
     "output_type": "display_data"
    }
   ],
   "source": [
    "# 평균 거리 활용 군집 분석\n",
    "plot(hclust(as.dist(data2),method = 'average'))"
   ]
  },
  {
   "cell_type": "markdown",
   "metadata": {},
   "source": [
    "#### 평균거리 클러스터링 분석 요약 : \n",
    "##### 데이터간의 법안 발의 수를 거리로 환산하기 때문에 함께 함께한 법안 발의가 0이면 같은 클러스터로 묶임\n",
    "##### height를 기준으로 군집화하기 부적합한 클러스터링"
   ]
  },
  {
   "cell_type": "code",
   "execution_count": 213,
   "metadata": {},
   "outputs": [
    {
     "data": {
      "image/png": "[encoded data removed]",
      "text/plain": [
       "Plot with title \"Cluster Dendrogram\""
      ]
     },
     "metadata": {},
     "output_type": "display_data"
    }
   ],
   "source": [
    "# 완전 거리 활용 군집 분석\n",
    "plot(hclust(as.dist(data2),method = 'complete'))"
   ]
  },
  {
   "cell_type": "markdown",
   "metadata": {},
   "source": [
    "#### 완전거리 클러스터링 분석 요약 : \n",
    "##### 데이터간의 법안 발의 수를 거리로 환산하기 때문에 함께 함께한 법안 발의가 0이면 같은 클러스터로 묶임\n",
    "##### height= 200를 기준으로 8개의 클러스터링으로 구분됨"
   ]
  },
  {
   "cell_type": "markdown",
   "metadata": {},
   "source": [
    "#### 추가적인 클러스터링\n",
    "상관 기반 거리를 활용해 함께 법안을 발의한 수가 높으면 상관관계가 높아 이를 기준으로 클러스터링 "
   ]
  },
  {
   "cell_type": "code",
   "execution_count": 215,
   "metadata": {},
   "outputs": [
    {
     "data": {
      "image/png": "[encoded data removed]",
      "text/plain": [
       "Plot with title \"Cluster Dendrogram\""
      ]
     },
     "metadata": {},
     "output_type": "display_data"
    },
    {
     "data": {
      "image/png": "[encoded data removed]",
      "text/plain": [
       "Plot with title \"Cluster Dendrogram\""
      ]
     },
     "metadata": {},
     "output_type": "display_data"
    }
   ],
   "source": [
    "plot(hclust(as.dist(1 - cor(data2))))\n",
    "plot(hclust(as.dist(1 - cor(data_party))))"
   ]
  },
  {
   "cell_type": "markdown",
   "metadata": {},
   "source": [
    "#### 상관계수 기반 클러스터링 분석 요약 : \n",
    "##### 법안 발의한 수가 많은 의원을 중심으로 클러스터링 됨\n",
    "##### 이를 정당의 이름을 기준으로 보았을 때, 각 정당 끼리 묶이는 경향을 보임\n",
    "##### 크게 3개의 클러스터링으로 분류되는데, '자유한국당 - 바른정당' 클러스터링, '국민의당' 클러스터링, '더불어민주당-정의당' 클러스터링으로 분류\n"
   ]
  },
  {
   "cell_type": "code",
   "execution_count": null,
   "metadata": {
    "collapsed": true
   },
   "outputs": [],
   "source": []
  }
 ],
 "metadata": {
  "kernelspec": {
   "display_name": "R",
   "language": "R",
   "name": "ir"
  },
  "language_info": {
   "codemirror_mode": "r",
   "file_extension": ".r",
   "mimetype": "text/x-r-source",
   "name": "R",
   "pygments_lexer": "r",
   "version": "3.4.1"
  }
 },
 "nbformat": 4,
 "nbformat_minor": 2
}
