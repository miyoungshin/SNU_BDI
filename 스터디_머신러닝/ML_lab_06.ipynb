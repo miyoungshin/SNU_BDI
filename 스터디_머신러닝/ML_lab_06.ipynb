{
 "cells": [
  {
   "cell_type": "code",
   "execution_count": 3,
   "metadata": {
    "collapsed": true
   },
   "outputs": [],
   "source": [
    "import tensorflow as tf"
   ]
  },
  {
   "cell_type": "code",
   "execution_count": 7,
   "metadata": {},
   "outputs": [
    {
     "name": "stdout",
     "output_type": "stream",
     "text": [
      "0 3.33405\n",
      "200 0.619188\n",
      "400 0.50079\n",
      "600 0.420037\n",
      "800 0.348133\n",
      "1000 0.275726\n",
      "1200 0.231704\n",
      "1400 0.210417\n",
      "1600 0.192571\n",
      "1800 0.177403\n",
      "2000 0.164363\n"
     ]
    }
   ],
   "source": [
    "x_data = [[1, 2, 1, 1], [2, 1, 3, 2], [3, 1, 3, 4], [4, 1, 5, 5], [1, 7, 5, 5], \n",
    "                                                        [1, 2, 5, 6], [1, 6, 6, 6], [1, 7, 7, 7]]\n",
    "# 'one- hot' ENCODING\n",
    "y_data = [[0, 0, 1], [0, 0, 1], [0, 0, 1], [0, 1, 0], [0, 1, 0], [0, 1, 0], [1, 0, 0], [1, 0, 0]]\n",
    "\n",
    "X = tf.placeholder(\"float\", [None, 4])\n",
    "Y = tf.placeholder(\"float\", [None, 3])\n",
    "nb_classes = 3\n",
    "\n",
    "W = tf.Variable(tf.random_normal([4, nb_classes]), name='weight') # 들어오는 값(4), 나가는 값(3, one-hot encoding)\n",
    "b = tf.Variable(tf.random_normal([nb_classes]), name='bias')\n",
    "\n",
    "# 가설 softmax로 간단하게 가능\n",
    "hypothesis = tf.nn.softmax(tf.matmul(X, W) + b)\n",
    "\n",
    "# cost 함수\n",
    "cost = tf.reduce_mean(-tf.reduce_sum(Y * tf.log(hypothesis), axis=1))\n",
    "optimizer = tf.train.GradientDescentOptimizer(learning_rate=0.1).minimize(cost)\n",
    "\n",
    "sess = tf.Session()\n",
    "sess.run(tf.global_variables_initializer())\n",
    "\n",
    "\n",
    "#with tf.Session() as sess:\n",
    "#    sess.run(tf.global_variables_initializer())\n",
    "\n",
    "\n",
    "\n",
    "for step in range(2001):\n",
    "    sess.run(optimizer, feed_dict={X: x_data, Y: y_data})\n",
    "    if step % 200 == 0:\n",
    "        print(step, sess.run(cost, feed_dict={X: x_data, Y: y_data}))\n"
   ]
  },
  {
   "cell_type": "code",
   "execution_count": 8,
   "metadata": {},
   "outputs": [
    {
     "name": "stdout",
     "output_type": "stream",
     "text": [
      "[[  8.94073118e-03   9.91050363e-01   8.84691781e-06]] [1]\n"
     ]
    }
   ],
   "source": [
    "# 예측 (오류 확인하기)\n",
    "\n",
    "a = sess.run(hypothesis, feed_dict={X: [[1, 11, 7, 9]]})\n",
    "print(a, sess.run(tf.arg_max(a, 1)))"
   ]
  },
  {
   "cell_type": "code",
   "execution_count": 9,
   "metadata": {},
   "outputs": [
    {
     "name": "stdout",
     "output_type": "stream",
     "text": [
      "[[  8.94073118e-03   9.91050363e-01   8.84691781e-06]\n",
      " [  8.27869415e-01   1.60751149e-01   1.13794487e-02]\n",
      " [  2.14015774e-08   3.92442598e-04   9.99607503e-01]] [1 0 2]\n"
     ]
    }
   ],
   "source": [
    "all = sess.run(hypothesis, feed_dict={X: [[1, 11, 7, 9], \n",
    "                                          [1, 3, 4, 3], \n",
    "                                          [1, 1, 0, 1]]})\n",
    "print(all, sess.run(tf.arg_max(all, 1)))"
   ]
  },
  {
   "cell_type": "code",
   "execution_count": null,
   "metadata": {
    "collapsed": true
   },
   "outputs": [],
   "source": []
  }
 ],
 "metadata": {
  "kernelspec": {
   "display_name": "Python 3",
   "language": "python",
   "name": "python3"
  },
  "language_info": {
   "codemirror_mode": {
    "name": "ipython",
    "version": 3
   },
   "file_extension": ".py",
   "mimetype": "text/x-python",
   "name": "python",
   "nbconvert_exporter": "python",
   "pygments_lexer": "ipython3",
   "version": "3.6.1"
  }
 },
 "nbformat": 4,
 "nbformat_minor": 2
}
