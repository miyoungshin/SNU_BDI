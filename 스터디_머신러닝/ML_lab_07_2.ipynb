{
 "cells": [
  {
   "cell_type": "code",
   "execution_count": 5,
   "metadata": {
    "collapsed": true
   },
   "outputs": [],
   "source": [
    "import numpy as np\n",
    "import pandas as pd\n",
    "import random\n",
    "import scipy.io as sio"
   ]
  },
  {
   "cell_type": "code",
   "execution_count": 10,
   "metadata": {
    "collapsed": true
   },
   "outputs": [],
   "source": [
    "# NN funtion\n",
    "input_layer_size = 400 # 20 * 20 \n",
    "hidden_layer_size = 25 # 25 은닉층\n",
    "num_labels = 10 \n",
    "\n",
    "## Part 1: Loading and Visualizing Data\n",
    "\n",
    "# Load Training Data\n",
    "\n",
    "mat_contents = sio.loadmat('ex3data1.mat')\n",
    "\n",
    "X = mat_contents['X']\n",
    "y = mat_contents['y']\n",
    "\n",
    "y = np.array(y[0:,0])\n",
    "\n",
    "m = X.shape[0]\n",
    "\n",
    "# 임의로 100개의 데이터를 선택해서 표시\n",
    "rand_indices = np.arange(m)\n",
    "random.shuffle(rand_indices)\n",
    "\n",
    "sel = X[rand_indices[0:100,], :] # 100x400\n",
    "\n"
   ]
  },
  {
   "cell_type": "code",
   "execution_count": 15,
   "metadata": {},
   "outputs": [
    {
     "data": {
      "text/plain": [
       "array([[ -2.25623899e-02,  -1.05624163e-08,   2.19414684e-09, ...,\n",
       "         -1.30529929e-05,  -5.04175101e-06,   2.80464449e-09],\n",
       "       [ -9.83811294e-02,   7.66168682e-09,  -9.75873689e-09, ...,\n",
       "         -5.60134007e-05,   2.00940969e-07,   3.54422854e-09],\n",
       "       [  1.16156052e-01,  -8.77654466e-09,   8.16037764e-09, ...,\n",
       "         -1.20951657e-04,  -2.33669661e-06,  -7.50668099e-09],\n",
       "       ..., \n",
       "       [ -1.83220638e-01,  -8.89272060e-09,  -9.81968100e-09, ...,\n",
       "          2.35311186e-05,  -3.25484493e-06,   9.02499060e-09],\n",
       "       [ -7.02096331e-01,   3.05178374e-10,   2.56061008e-09, ...,\n",
       "         -8.61759744e-04,   9.43449909e-05,   3.83761998e-09],\n",
       "       [ -3.50933229e-01,   8.85876862e-09,  -6.57515140e-10, ...,\n",
       "         -1.80365926e-06,  -8.14464807e-06,   8.79454531e-09]])"
      ]
     },
     "execution_count": 15,
     "metadata": {},
     "output_type": "execute_result"
    }
   ],
   "source": [
    "mat_contents = sio.loadmat('ex3weights.mat')\n",
    "\n",
    "theta1 = mat_contents['Theta1']\n",
    "theta2 = mat_contents['Theta2']\n",
    "\n"
   ]
  },
  {
   "cell_type": "code",
   "execution_count": null,
   "metadata": {
    "collapsed": true
   },
   "outputs": [],
   "source": []
  }
 ],
 "metadata": {
  "kernelspec": {
   "display_name": "Python 3",
   "language": "python",
   "name": "python3"
  },
  "language_info": {
   "codemirror_mode": {
    "name": "ipython",
    "version": 3
   },
   "file_extension": ".py",
   "mimetype": "text/x-python",
   "name": "python",
   "nbconvert_exporter": "python",
   "pygments_lexer": "ipython3",
   "version": "3.6.1"
  }
 },
 "nbformat": 4,
 "nbformat_minor": 2
}
